{
 "cells": [
  {
   "cell_type": "code",
   "execution_count": 3,
   "id": "f6fd424f",
   "metadata": {},
   "outputs": [],
   "source": [
    "import folium\n",
    "import openrouteservice as ors\n",
    "import math"
   ]
  },
  {
   "cell_type": "code",
   "execution_count": 5,
   "id": "4bb8900b",
   "metadata": {},
   "outputs": [
    {
     "data": {
      "text/html": [
       "<div style=\"width:100%;\"><div style=\"position:relative;width:100%;height:0;padding-bottom:60%;\"><span style=\"color:#565656\">Make this Notebook Trusted to load map: File -> Trust Notebook</span><iframe srcdoc=\"&lt;!DOCTYPE html&gt;\n",
       "&lt;html&gt;\n",
       "&lt;head&gt;\n",
       "    \n",
       "    &lt;meta http-equiv=&quot;content-type&quot; content=&quot;text/html; charset=UTF-8&quot; /&gt;\n",
       "    \n",
       "        &lt;script&gt;\n",
       "            L_NO_TOUCH = false;\n",
       "            L_DISABLE_3D = false;\n",
       "        &lt;/script&gt;\n",
       "    \n",
       "    &lt;style&gt;html, body {width: 100%;height: 100%;margin: 0;padding: 0;}&lt;/style&gt;\n",
       "    &lt;style&gt;#map {position:absolute;top:0;bottom:0;right:0;left:0;}&lt;/style&gt;\n",
       "    &lt;script src=&quot;https://cdn.jsdelivr.net/npm/leaflet@1.9.3/dist/leaflet.js&quot;&gt;&lt;/script&gt;\n",
       "    &lt;script src=&quot;https://code.jquery.com/jquery-1.12.4.min.js&quot;&gt;&lt;/script&gt;\n",
       "    &lt;script src=&quot;https://cdn.jsdelivr.net/npm/bootstrap@5.2.2/dist/js/bootstrap.bundle.min.js&quot;&gt;&lt;/script&gt;\n",
       "    &lt;script src=&quot;https://cdnjs.cloudflare.com/ajax/libs/Leaflet.awesome-markers/2.0.2/leaflet.awesome-markers.js&quot;&gt;&lt;/script&gt;\n",
       "    &lt;link rel=&quot;stylesheet&quot; href=&quot;https://cdn.jsdelivr.net/npm/leaflet@1.9.3/dist/leaflet.css&quot;/&gt;\n",
       "    &lt;link rel=&quot;stylesheet&quot; href=&quot;https://cdn.jsdelivr.net/npm/bootstrap@5.2.2/dist/css/bootstrap.min.css&quot;/&gt;\n",
       "    &lt;link rel=&quot;stylesheet&quot; href=&quot;https://netdna.bootstrapcdn.com/bootstrap/3.0.0/css/bootstrap.min.css&quot;/&gt;\n",
       "    &lt;link rel=&quot;stylesheet&quot; href=&quot;https://cdn.jsdelivr.net/npm/@fortawesome/fontawesome-free@6.2.0/css/all.min.css&quot;/&gt;\n",
       "    &lt;link rel=&quot;stylesheet&quot; href=&quot;https://cdnjs.cloudflare.com/ajax/libs/Leaflet.awesome-markers/2.0.2/leaflet.awesome-markers.css&quot;/&gt;\n",
       "    &lt;link rel=&quot;stylesheet&quot; href=&quot;https://cdn.jsdelivr.net/gh/python-visualization/folium/folium/templates/leaflet.awesome.rotate.min.css&quot;/&gt;\n",
       "    \n",
       "            &lt;meta name=&quot;viewport&quot; content=&quot;width=device-width,\n",
       "                initial-scale=1.0, maximum-scale=1.0, user-scalable=no&quot; /&gt;\n",
       "            &lt;style&gt;\n",
       "                #map_92f516ff3d2c6b64916a9d7dc9003284 {\n",
       "                    position: relative;\n",
       "                    width: 100.0%;\n",
       "                    height: 100.0%;\n",
       "                    left: 0.0%;\n",
       "                    top: 0.0%;\n",
       "                }\n",
       "                .leaflet-container { font-size: 1rem; }\n",
       "            &lt;/style&gt;\n",
       "        \n",
       "&lt;/head&gt;\n",
       "&lt;body&gt;\n",
       "    \n",
       "    \n",
       "            &lt;div class=&quot;folium-map&quot; id=&quot;map_92f516ff3d2c6b64916a9d7dc9003284&quot; &gt;&lt;/div&gt;\n",
       "        \n",
       "&lt;/body&gt;\n",
       "&lt;script&gt;\n",
       "    \n",
       "    \n",
       "            var map_92f516ff3d2c6b64916a9d7dc9003284 = L.map(\n",
       "                &quot;map_92f516ff3d2c6b64916a9d7dc9003284&quot;,\n",
       "                {\n",
       "                    center: [-73.86016228252517, 40.70700629968851],\n",
       "                    crs: L.CRS.EPSG3857,\n",
       "                    zoom: 10,\n",
       "                    zoomControl: true,\n",
       "                    preferCanvas: false,\n",
       "                }\n",
       "            );\n",
       "\n",
       "            \n",
       "\n",
       "        \n",
       "    \n",
       "            var tile_layer_c13faf19f38c5000f520d43bf21feea2 = L.tileLayer(\n",
       "                &quot;https://cartodb-basemaps-{s}.global.ssl.fastly.net/light_all/{z}/{x}/{y}.png&quot;,\n",
       "                {&quot;attribution&quot;: &quot;\\u0026copy; \\u003ca target=\\&quot;_blank\\&quot; href=\\&quot;http://www.openstreetmap.org/copyright\\&quot;\\u003eOpenStreetMap\\u003c/a\\u003e contributors \\u0026copy; \\u003ca target=\\&quot;_blank\\&quot; href=\\&quot;http://cartodb.com/attributions\\&quot;\\u003eCartoDB\\u003c/a\\u003e, CartoDB \\u003ca target=\\&quot;_blank\\&quot; href =\\&quot;http://cartodb.com/attributions\\&quot;\\u003eattributions\\u003c/a\\u003e&quot;, &quot;detectRetina&quot;: false, &quot;maxNativeZoom&quot;: 18, &quot;maxZoom&quot;: 18, &quot;minZoom&quot;: 0, &quot;noWrap&quot;: false, &quot;opacity&quot;: 1, &quot;subdomains&quot;: &quot;abc&quot;, &quot;tms&quot;: false}\n",
       "            ).addTo(map_92f516ff3d2c6b64916a9d7dc9003284);\n",
       "        \n",
       "    \n",
       "            var marker_d26cb82fe074868836484805ab4e986a = L.marker(\n",
       "                [-73.94679754715939, 40.69599185935973],\n",
       "                {}\n",
       "            ).addTo(map_92f516ff3d2c6b64916a9d7dc9003284);\n",
       "        \n",
       "    \n",
       "            var marker_0eafaf4e6cc24a443b30b35b5278a955 = L.marker(\n",
       "                [-73.96492714715826, 40.719915800920774],\n",
       "                {}\n",
       "            ).addTo(map_92f516ff3d2c6b64916a9d7dc9003284);\n",
       "        \n",
       "    \n",
       "            var marker_626092f0e78de556b6de8df2ef3f7124 = L.marker(\n",
       "                [-73.96160167600075, 40.58137957765392],\n",
       "                {}\n",
       "            ).addTo(map_92f516ff3d2c6b64916a9d7dc9003284);\n",
       "        \n",
       "    \n",
       "            var marker_fee53218abdc71615abacafc9a71e9c5 = L.marker(\n",
       "                [-73.96249564715974, 40.686715446471354],\n",
       "                {}\n",
       "            ).addTo(map_92f516ff3d2c6b64916a9d7dc9003284);\n",
       "        \n",
       "    \n",
       "            var marker_32c34ba306ba0e6eb5ab06c9f440e127 = L.marker(\n",
       "                [-73.99912754530888, 40.62827111405797],\n",
       "                {}\n",
       "            ).addTo(map_92f516ff3d2c6b64916a9d7dc9003284);\n",
       "        \n",
       "    \n",
       "            var marker_65a065f0e1d47eb8add8e6d76f5ee0a9 = L.marker(\n",
       "                [-73.90378643181441, 40.69915475163535],\n",
       "                {}\n",
       "            ).addTo(map_92f516ff3d2c6b64916a9d7dc9003284);\n",
       "        \n",
       "    \n",
       "            var marker_e2bccd58fbdd7dd10c95594e08b64632 = L.marker(\n",
       "                [-73.95621844715858, 40.711693988517375],\n",
       "                {}\n",
       "            ).addTo(map_92f516ff3d2c6b64916a9d7dc9003284);\n",
       "        \n",
       "    \n",
       "            var marker_ef0a933fc8b062640779db4c0aadecfc = L.marker(\n",
       "                [-73.96462803181421, 40.703924273752335],\n",
       "                {}\n",
       "            ).addTo(map_92f516ff3d2c6b64916a9d7dc9003284);\n",
       "        \n",
       "&lt;/script&gt;\n",
       "&lt;/html&gt;\" style=\"position:absolute;width:100%;height:100%;left:0;top:0;border:none !important;\" allowfullscreen webkitallowfullscreen mozallowfullscreen></iframe></div></div>"
      ],
      "text/plain": [
       "<folium.folium.Map at 0x21f49e37fa0>"
      ]
     },
     "execution_count": 5,
     "metadata": {},
     "output_type": "execute_result"
    }
   ],
   "source": [
    "# Simple single route optimization\n",
    "coords = [\n",
    "    [40.69599185935973, -73.94679754715939],\n",
    "    [40.719915800920774, -73.96492714715826],\n",
    "    [40.58137957765392, -73.96160167600075],\n",
    "    [40.686715446471354, -73.96249564715974],\n",
    "    [40.62827111405797, -73.99912754530888],\n",
    "    [40.69915475163535, -73.90378643181441],\n",
    "    [40.711693988517375, -73.95621844715858],\n",
    "    [40.703924273752335, -73.96462803181421],\n",
    "]\n",
    "# visualize the points on a map\n",
    "m = folium.Map(location=list(reversed([40.70700629968851, -73.86016228252517])), tiles=\"cartodbpositron\", zoom_start=10)\n",
    "for coord in coords:\n",
    "    folium.Marker(location=list(reversed(coord))).add_to(m)\n",
    "m"
   ]
  },
  {
   "cell_type": "code",
   "execution_count": 21,
   "id": "f1f35e9f",
   "metadata": {
    "scrolled": false
   },
   "outputs": [
    {
     "ename": "ApiError",
     "evalue": "500 ({'code': 3, 'error': 'Unfound route(s) from location [40.703924;-73.964628]'})",
     "output_type": "error",
     "traceback": [
      "\u001b[1;31m---------------------------------------------------------------------------\u001b[0m",
      "\u001b[1;31mApiError\u001b[0m                                  Traceback (most recent call last)",
      "Cell \u001b[1;32mIn[21], line 24\u001b[0m\n\u001b[0;32m     19\u001b[0m vehicles \u001b[38;5;241m=\u001b[39m [\n\u001b[0;32m     20\u001b[0m     ors\u001b[38;5;241m.\u001b[39moptimization\u001b[38;5;241m.\u001b[39mVehicle(\u001b[38;5;28mid\u001b[39m\u001b[38;5;241m=\u001b[39m\u001b[38;5;241m0\u001b[39m, profile\u001b[38;5;241m=\u001b[39m\u001b[38;5;124m'\u001b[39m\u001b[38;5;124mdriving-car\u001b[39m\u001b[38;5;124m'\u001b[39m, start\u001b[38;5;241m=\u001b[39mvehicle_start, end\u001b[38;5;241m=\u001b[39mvehicle_start, capacity\u001b[38;5;241m=\u001b[39m[\u001b[38;5;241m5\u001b[39m]),\n\u001b[0;32m     21\u001b[0m     ors\u001b[38;5;241m.\u001b[39moptimization\u001b[38;5;241m.\u001b[39mVehicle(\u001b[38;5;28mid\u001b[39m\u001b[38;5;241m=\u001b[39m\u001b[38;5;241m1\u001b[39m, profile\u001b[38;5;241m=\u001b[39m\u001b[38;5;124m'\u001b[39m\u001b[38;5;124mdriving-car\u001b[39m\u001b[38;5;124m'\u001b[39m, start\u001b[38;5;241m=\u001b[39mvehicle_start, end\u001b[38;5;241m=\u001b[39mvehicle_start, capacity\u001b[38;5;241m=\u001b[39m[\u001b[38;5;241m5\u001b[39m])\n\u001b[0;32m     22\u001b[0m ]\n\u001b[0;32m     23\u001b[0m jobs \u001b[38;5;241m=\u001b[39m [ors\u001b[38;5;241m.\u001b[39moptimization\u001b[38;5;241m.\u001b[39mJob(\u001b[38;5;28mid\u001b[39m\u001b[38;5;241m=\u001b[39mindex, location\u001b[38;5;241m=\u001b[39mcoords, amount\u001b[38;5;241m=\u001b[39m[\u001b[38;5;241m1\u001b[39m]) \u001b[38;5;28;01mfor\u001b[39;00m index, coords \u001b[38;5;129;01min\u001b[39;00m \u001b[38;5;28menumerate\u001b[39m(coords)]\n\u001b[1;32m---> 24\u001b[0m optimized \u001b[38;5;241m=\u001b[39m \u001b[43mclient\u001b[49m\u001b[38;5;241;43m.\u001b[39;49m\u001b[43moptimization\u001b[49m\u001b[43m(\u001b[49m\u001b[43mjobs\u001b[49m\u001b[38;5;241;43m=\u001b[39;49m\u001b[43mjobs\u001b[49m\u001b[43m,\u001b[49m\u001b[43m \u001b[49m\u001b[43mvehicles\u001b[49m\u001b[38;5;241;43m=\u001b[39;49m\u001b[43mvehicles\u001b[49m\u001b[43m,\u001b[49m\u001b[43m \u001b[49m\u001b[43mgeometry\u001b[49m\u001b[38;5;241;43m=\u001b[39;49m\u001b[38;5;28;43;01mTrue\u001b[39;49;00m\u001b[43m)\u001b[49m\n",
      "File \u001b[1;32m~\\anaconda3\\lib\\site-packages\\openrouteservice\\client.py:299\u001b[0m, in \u001b[0;36m_make_api_method.<locals>.wrapper\u001b[1;34m(*args, **kwargs)\u001b[0m\n\u001b[0;32m    296\u001b[0m \u001b[38;5;129m@functools\u001b[39m\u001b[38;5;241m.\u001b[39mwraps(func)\n\u001b[0;32m    297\u001b[0m \u001b[38;5;28;01mdef\u001b[39;00m \u001b[38;5;21mwrapper\u001b[39m(\u001b[38;5;241m*\u001b[39margs, \u001b[38;5;241m*\u001b[39m\u001b[38;5;241m*\u001b[39mkwargs):\n\u001b[0;32m    298\u001b[0m     args[\u001b[38;5;241m0\u001b[39m]\u001b[38;5;241m.\u001b[39m_extra_params \u001b[38;5;241m=\u001b[39m kwargs\u001b[38;5;241m.\u001b[39mpop(\u001b[38;5;124m\"\u001b[39m\u001b[38;5;124mextra_params\u001b[39m\u001b[38;5;124m\"\u001b[39m, \u001b[38;5;28;01mNone\u001b[39;00m)\n\u001b[1;32m--> 299\u001b[0m     result \u001b[38;5;241m=\u001b[39m func(\u001b[38;5;241m*\u001b[39margs, \u001b[38;5;241m*\u001b[39m\u001b[38;5;241m*\u001b[39mkwargs)\n\u001b[0;32m    300\u001b[0m     \u001b[38;5;28;01mtry\u001b[39;00m:\n\u001b[0;32m    301\u001b[0m         \u001b[38;5;28;01mdel\u001b[39;00m args[\u001b[38;5;241m0\u001b[39m]\u001b[38;5;241m.\u001b[39m_extra_params\n",
      "File \u001b[1;32m~\\anaconda3\\lib\\site-packages\\openrouteservice\\optimization.py:97\u001b[0m, in \u001b[0;36moptimization\u001b[1;34m(client, jobs, vehicles, shipments, matrix, geometry, dry_run)\u001b[0m\n\u001b[0;32m     94\u001b[0m \u001b[38;5;28;01mif\u001b[39;00m matrix:\n\u001b[0;32m     95\u001b[0m     params[\u001b[38;5;124m'\u001b[39m\u001b[38;5;124mmatrix\u001b[39m\u001b[38;5;124m'\u001b[39m] \u001b[38;5;241m=\u001b[39m matrix\n\u001b[1;32m---> 97\u001b[0m \u001b[38;5;28;01mreturn\u001b[39;00m \u001b[43mclient\u001b[49m\u001b[38;5;241;43m.\u001b[39;49m\u001b[43mrequest\u001b[49m\u001b[43m(\u001b[49m\u001b[38;5;124;43m\"\u001b[39;49m\u001b[38;5;124;43m/optimization\u001b[39;49m\u001b[38;5;124;43m\"\u001b[39;49m\u001b[43m,\u001b[49m\u001b[43m \u001b[49m\u001b[43m{\u001b[49m\u001b[43m}\u001b[49m\u001b[43m,\u001b[49m\u001b[43m \u001b[49m\u001b[43mpost_json\u001b[49m\u001b[38;5;241;43m=\u001b[39;49m\u001b[43mparams\u001b[49m\u001b[43m,\u001b[49m\u001b[43m \u001b[49m\u001b[43mdry_run\u001b[49m\u001b[38;5;241;43m=\u001b[39;49m\u001b[43mdry_run\u001b[49m\u001b[43m)\u001b[49m\n",
      "File \u001b[1;32m~\\anaconda3\\lib\\site-packages\\openrouteservice\\client.py:204\u001b[0m, in \u001b[0;36mClient.request\u001b[1;34m(self, url, get_params, first_request_time, retry_counter, requests_kwargs, post_json, dry_run)\u001b[0m\n\u001b[0;32m    200\u001b[0m     \u001b[38;5;28;01mreturn\u001b[39;00m \u001b[38;5;28mself\u001b[39m\u001b[38;5;241m.\u001b[39mrequest(url, get_params, first_request_time,\n\u001b[0;32m    201\u001b[0m                         retry_counter \u001b[38;5;241m+\u001b[39m \u001b[38;5;241m1\u001b[39m, requests_kwargs, post_json)\n\u001b[0;32m    203\u001b[0m \u001b[38;5;28;01mtry\u001b[39;00m:\n\u001b[1;32m--> 204\u001b[0m     result \u001b[38;5;241m=\u001b[39m \u001b[38;5;28;43mself\u001b[39;49m\u001b[38;5;241;43m.\u001b[39;49m\u001b[43m_get_body\u001b[49m\u001b[43m(\u001b[49m\u001b[43mresponse\u001b[49m\u001b[43m)\u001b[49m\n\u001b[0;32m    206\u001b[0m     \u001b[38;5;28;01mreturn\u001b[39;00m result\n\u001b[0;32m    207\u001b[0m \u001b[38;5;28;01mexcept\u001b[39;00m exceptions\u001b[38;5;241m.\u001b[39m_RetriableRequest \u001b[38;5;28;01mas\u001b[39;00m e:\n",
      "File \u001b[1;32m~\\anaconda3\\lib\\site-packages\\openrouteservice\\client.py:242\u001b[0m, in \u001b[0;36mClient._get_body\u001b[1;34m(response)\u001b[0m\n\u001b[0;32m    237\u001b[0m     \u001b[38;5;28;01mraise\u001b[39;00m exceptions\u001b[38;5;241m.\u001b[39m_OverQueryLimit(\n\u001b[0;32m    238\u001b[0m         status_code,\n\u001b[0;32m    239\u001b[0m         body\n\u001b[0;32m    240\u001b[0m     )\n\u001b[0;32m    241\u001b[0m \u001b[38;5;28;01mif\u001b[39;00m status_code \u001b[38;5;241m!=\u001b[39m \u001b[38;5;241m200\u001b[39m:\n\u001b[1;32m--> 242\u001b[0m     \u001b[38;5;28;01mraise\u001b[39;00m exceptions\u001b[38;5;241m.\u001b[39mApiError(\n\u001b[0;32m    243\u001b[0m         status_code,\n\u001b[0;32m    244\u001b[0m         body\n\u001b[0;32m    245\u001b[0m     )\n\u001b[0;32m    247\u001b[0m \u001b[38;5;28;01mreturn\u001b[39;00m body\n",
      "\u001b[1;31mApiError\u001b[0m: 500 ({'code': 3, 'error': 'Unfound route(s) from location [40.703924;-73.964628]'})"
     ]
    }
   ],
   "source": [
    "client = ors.Client(key='#put your ORS api key')\n",
    "coords = [\n",
    "    [40.6959918, -73.9467975],\n",
    "    [40.7199158, -73.9649271],\n",
    "    [40.5813795, -73.9616016],\n",
    "    [40.6867154, -73.9624956],\n",
    "    [40.6282711, -73.9991275],\n",
    "    [40.6991547, -73.9037864],\n",
    "    [40.7116939, -73.9562184],\n",
    "    [40.7039242, -73.9646280],\n",
    "]\n",
    "vehicle_start = [40.7039242, -73.9646280]\n",
    "m = folium.Map(location=list(reversed([40.6412137, -74.0829786])), tiles=\"cartodbpositron\", zoom_start=14)\n",
    "for coord in coords:\n",
    "    folium.Marker(location=list(reversed(coord))).add_to(m)\n",
    "m    \n",
    "folium.Marker(location=list(reversed(vehicle_start)), icon=folium.Icon(color=\"red\")).add_to(m)\n",
    "m\n",
    "vehicles = [\n",
    "    ors.optimization.Vehicle(id=0, profile='driving-car', start=vehicle_start, end=vehicle_start, capacity=[5]),\n",
    "    ors.optimization.Vehicle(id=1, profile='driving-car', start=vehicle_start, end=vehicle_start, capacity=[5])\n",
    "]\n",
    "jobs = [ors.optimization.Job(id=index, location=coords, amount=[1]) for index, coords in enumerate(coords)]\n",
    "optimized = client.optimization(jobs=jobs, vehicles=vehicles, geometry=True)\n",
    "# line_colors = ['green', 'orange', 'blue', 'yellow']\n",
    "# for route in optimized['routes']:\n",
    "#     folium.PolyLine(locations=[list(reversed(coords)) for coords in ors.convert.decode_polyline(route['geometry'])['coordinates']], color=line_colors[route['vehicle']]).add_to(m)\n",
    "# m"
   ]
  },
  {
   "cell_type": "code",
   "execution_count": 11,
   "id": "203b6e5e",
   "metadata": {},
   "outputs": [
    {
     "data": {
      "text/plain": [
       "[<openrouteservice.optimization.Vehicle at 0x21f4ce45690>,\n",
       " <openrouteservice.optimization.Vehicle at 0x21f4ce44100>]"
      ]
     },
     "execution_count": 11,
     "metadata": {},
     "output_type": "execute_result"
    }
   ],
   "source": [
    "vehicles"
   ]
  },
  {
   "cell_type": "code",
   "execution_count": null,
   "id": "312d23de",
   "metadata": {},
   "outputs": [],
   "source": []
  }
 ],
 "metadata": {
  "kernelspec": {
   "display_name": "Python 3 (ipykernel)",
   "language": "python",
   "name": "python3"
  },
  "language_info": {
   "codemirror_mode": {
    "name": "ipython",
    "version": 3
   },
   "file_extension": ".py",
   "mimetype": "text/x-python",
   "name": "python",
   "nbconvert_exporter": "python",
   "pygments_lexer": "ipython3",
   "version": "3.10.5"
  }
 },
 "nbformat": 4,
 "nbformat_minor": 5
}
